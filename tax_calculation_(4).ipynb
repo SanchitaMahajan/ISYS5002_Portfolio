{
  "nbformat": 4,
  "nbformat_minor": 0,
  "metadata": {
    "colab": {
      "name": "tax_calculation (4).ipynb",
      "provenance": [],
      "include_colab_link": true
    },
    "kernelspec": {
      "name": "python3",
      "display_name": "Python 3"
    },
    "language_info": {
      "name": "python"
    }
  },
  "cells": [
    {
      "cell_type": "markdown",
      "metadata": {
        "id": "view-in-github",
        "colab_type": "text"
      },
      "source": [
        "<a href=\"https://colab.research.google.com/github/SanchitaMahajan/ISYS5002_Portfolio/blob/main/tax_calculation_(4).ipynb\" target=\"_parent\"><img src=\"https://colab.research.google.com/assets/colab-badge.svg\" alt=\"Open In Colab\"/></a>"
      ]
    },
    {
      "cell_type": "markdown",
      "metadata": {
        "id": "bVMwNyExqHgH"
      },
      "source": [
        "Write a program the prompts the user for their income and caclualtes the tax payable.\n",
        "\n",
        "[Resident tax rates 2021–22\n",
        "Taxable income](https://www.ato.gov.au/rates/individual-income-tax-rates/)\n",
        "\n",
        "Income            | Tax on this income \n",
        "------------------|----------------------\n",
        "0 – \\$18,200       | Nil\n",
        "\\$18,201 – \\$45,000 | 19 cents for each \\$1 over \\$18,200\n",
        "\\$45,001 – \\$120,000 | \\$5,092 plus 32.5 cents for each \\$1 over \\$45,000\n",
        "\\$120,001 – \\$180,000 |  \\$29,467 plus 37 cents for each \\$1 over \\$120,000\n",
        "\\$180,001 and over | \\$51,667 plus 45 cents for each \\$1 over \\$180,000\n",
        "\n"
      ]
    },
    {
      "cell_type": "markdown",
      "metadata": {
        "id": "TV_hXu9e54kq"
      },
      "source": [
        "Steps\n",
        "1. Get the income\n",
        "2. Calculate the tax payable"
      ]
    },
    {
      "cell_type": "code",
      "metadata": {
        "id": "BSQnuKQvr-zw",
        "colab": {
          "base_uri": "https://localhost:8080/"
        },
        "outputId": "cd9a56c8-1d5a-4b79-bc81-f9d23a05d8d0"
      },
      "source": [
        "# Step 1- Calculate the income amount\n",
        "income = int(input(\"What is your income for the year\"))\n",
        "print(income)"
      ],
      "execution_count": 2,
      "outputs": [
        {
          "output_type": "stream",
          "name": "stdout",
          "text": [
            "What is your income for the year18200\n",
            "18200\n"
          ]
        }
      ]
    },
    {
      "cell_type": "code",
      "metadata": {
        "colab": {
          "base_uri": "https://localhost:8080/"
        },
        "id": "Zb9wXFPQ6Pgn",
        "outputId": "7a4bef31-f25e-4868-b439-8d2439f361a4"
      },
      "source": [
        "# Step 1- Calculate the income amount\n",
        "income = int(input(\"What is your income for the year? \"))\n",
        "print(\"Your income is \", income)\n",
        "\n",
        "# Step 2- Calculate the tax payable\n",
        "# if you earn $18,200, then pay no tax\n",
        "# else if you earn between $18,201 -$45,000, \n",
        "#         the pay 19 cents for every dollar over 18,200\n",
        "\n",
        "if income < 18200:\n",
        "  tax_payable = 0\n",
        "elif 18200 < income <= 45000:\n",
        "  tax_payable = 0.19*(income - 18200)\n",
        "elif 45000 < income < 120000:\n",
        "  tax_payable = 5092 + 0.32 * ( income - 45000)\n",
        "\n",
        "print(\" Your tax payable is: \", tax_payable)"
      ],
      "execution_count": 5,
      "outputs": [
        {
          "output_type": "stream",
          "name": "stdout",
          "text": [
            "What is your income for the year? 45002\n",
            "Your income is  45002\n",
            " Your tax payable is:  5092.64\n"
          ]
        }
      ]
    },
    {
      "cell_type": "code",
      "metadata": {
        "id": "SHWIJt1o8LyW"
      },
      "source": [
        "def get_income():\n",
        "  '''\n",
        "  This function will prompt the user for the income\n",
        "  and return the value\n",
        "  '''\n",
        "\n",
        "  income = int(input(\"What is your income for the year? \"))\n",
        "  print(\"Your income is \", income)\n",
        "  return income"
      ],
      "execution_count": 6,
      "outputs": []
    },
    {
      "cell_type": "code",
      "metadata": {
        "id": "s2DMpCky_ybR"
      },
      "source": [
        "def calculate_tax(income):\n",
        "  if income < 18200:\n",
        "   tax_payable = 0\n",
        "  elif 18200 < income <= 45000:\n",
        "   tax_payable = 0.19*(income - 18200)\n",
        "  elif 45000 < income < 120000:\n",
        "   tax_payable = 5092 + 0.32 * ( income - 45000)\n",
        "\n",
        "  return tax_payable\n"
      ],
      "execution_count": 7,
      "outputs": []
    },
    {
      "cell_type": "code",
      "metadata": {
        "colab": {
          "base_uri": "https://localhost:8080/"
        },
        "id": "qOYtYM8PAOBd",
        "outputId": "70dda848-6b3e-403b-bd70-7e52cfd9369d"
      },
      "source": [
        "# 'Main line'\n",
        "\n",
        "# Step 1\n",
        "income = get_income()\n",
        "\n",
        "# Step 2\n",
        "tax = calculate_tax(income)\n",
        "\n",
        "print(\" Your tax payable is \", tax)"
      ],
      "execution_count": 8,
      "outputs": [
        {
          "output_type": "stream",
          "name": "stdout",
          "text": [
            "What is your income for the year? 18400\n",
            "Your income is  18400\n",
            " Your tax payable is  38.0\n"
          ]
        }
      ]
    },
    {
      "cell_type": "code",
      "metadata": {
        "id": "65rbh_BBA0dE"
      },
      "source": [
        ""
      ],
      "execution_count": null,
      "outputs": []
    }
  ]
}